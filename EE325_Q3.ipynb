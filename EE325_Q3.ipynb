{
  "nbformat": 4,
  "nbformat_minor": 0,
  "metadata": {
    "colab": {
      "name": "EE325_Q3.ipynb",
      "provenance": [],
      "authorship_tag": "ABX9TyPiDyap5nNNSp9h+mfIc4gA",
      "include_colab_link": true
    },
    "kernelspec": {
      "name": "python3",
      "display_name": "Python 3"
    },
    "language_info": {
      "name": "python"
    }
  },
  "cells": [
    {
      "cell_type": "markdown",
      "metadata": {
        "id": "view-in-github",
        "colab_type": "text"
      },
      "source": [
        "<a href=\"https://colab.research.google.com/github/raushaniit2020/best-fitting-curve/blob/main/EE325_Q3.ipynb\" target=\"_parent\"><img src=\"https://colab.research.google.com/assets/colab-badge.svg\" alt=\"Open In Colab\"/></a>"
      ]
    },
    {
      "cell_type": "code",
      "metadata": {
        "colab": {
          "base_uri": "https://localhost:8080/",
          "height": 303
        },
        "id": "Wggk8a0Xjt9h",
        "outputId": "9a0451aa-3554-4f39-e148-2da6478a10d4"
      },
      "source": [
        "import matplotlib.pyplot as plt\n",
        "from scipy import stats\n",
        "\n",
        "X, Y = [], []\n",
        "for line in open('hw1c1.txt', 'r'):\n",
        "  values = [float(s) for s in line.split()]\n",
        "  X.append(values[0])\n",
        "  Y.append(values[1])\n",
        "\n",
        "slope, intercept, r, p, std_err = stats.linregress(X, Y)\n",
        "\n",
        "def myfunc(X):\n",
        "   return  slope * X + intercept\n",
        "  \n",
        "mymodel = list(map(myfunc, X))\n",
        "\n",
        "plt.scatter(X, Y)\n",
        "plt.plot(X, mymodel)\n",
        "plt.show()\n",
        "print(slope)\n",
        "print(intercept)"
      ],
      "execution_count": 17,
      "outputs": [
        {
          "output_type": "display_data",
          "data": {
            "image/png": "[encoded data removed]",
            "text/plain": [
              "<Figure size 432x288 with 1 Axes>"
            ]
          },
          "metadata": {
            "tags": [],
            "needs_background": "light"
          }
        },
        {
          "output_type": "stream",
          "text": [
            "0.5923424113347767\n",
            "-38.66420896827084\n"
          ],
          "name": "stdout"
        }
      ]
    }
  ]
}